{
 "cells": [
  {
   "cell_type": "code",
   "execution_count": 1,
   "id": "e5e7bf34",
   "metadata": {},
   "outputs": [
    {
     "name": "stdout",
     "output_type": "stream",
     "text": [
      "cuda\n"
     ]
    }
   ],
   "source": [
    "\n",
    "import numpy as np\n",
    "import torch\n",
    "\n",
    "import sys\n",
    "import os\n",
    "import scipy.io as sio\n",
    "\n",
    "#print(os.path.dirname(os.path.abspath(\"\")))\n",
    "#sys.path.append(os.path.dirname(os.path.abspath(\"\")))\n",
    "\n",
    "cwd = os.getcwd()\n",
    "\n",
    "#sys.path.append(cwd + '/my_directory')\n",
    "\n",
    "sys.path.append(cwd)\n",
    "\n",
    "import matplotlib.pyplot as plt\n",
    "\n",
    "# General imports\n",
    "import numpy as np\n",
    "import torch\n",
    "\n",
    "# DeePyMoD imports\n",
    "from deepymod import DeepMoD\n",
    "from deepymod.data import Dataset, get_train_test_loader\n",
    "from deepymod.data.samples import Subsample_random\n",
    "from deepymod.data.burgers import burgers_delta\n",
    "from deepymod.model.constraint import LeastSquares, Ridge, STRidgeCons\n",
    "from deepymod.model.func_approx import NN\n",
    "from deepymod.model.library import Library1D\n",
    "from deepymod.model.sparse_estimators import Threshold, STRidge\n",
    "from deepymod.training import train\n",
    "#from deepymod.training.training_2 import train\n",
    "\n",
    "from deepymod.training.sparsity_scheduler import Periodic, TrainTest, TrainTestPeriodic\n",
    "\n",
    "#from deepymod.data.data_set_preparation import DatasetPDE, pde_data_loader\n",
    "\n",
    "import scipy.io\n",
    "from scipy.interpolate import griddata\n",
    "from mpl_toolkits.axes_grid1 import make_axes_locatable\n",
    "\n",
    "from scipy.io import loadmat\n",
    "\n",
    "if torch.cuda.is_available():\n",
    "    device = \"cuda\"\n",
    "else:\n",
    "    device = \"cpu\"\n",
    "print(device)\n",
    "\n",
    "# Settings for reproducibility\n",
    "np.random.seed(42)\n",
    "torch.manual_seed(50)\n",
    "\n",
    "torch.backends.cudnn.deterministic = True\n",
    "torch.backends.cudnn.benchmark = False\n",
    "\n"
   ]
  },
  {
   "cell_type": "code",
   "execution_count": 2,
   "id": "74bb4d23",
   "metadata": {},
   "outputs": [
    {
     "name": "stdout",
     "output_type": "stream",
     "text": [
      "The coodinates have shape (20400000, 3)\n",
      "The data has shape (20400000, 1)\n"
     ]
    }
   ],
   "source": [
    "def create_data():\n",
    "    phi_data = np.load(\"data/data_ujjal.npy\")\n",
    "    phi_data = phi_data[14000:,:,:]\n",
    "    #phi_data = phi_data[np.random.choice(phi_data.shape[0], size=100),:,:] \n",
    "    #for i in range(len(phi_data)):\n",
    "    #    phi_data_sampled = phi_data[:,np.random.choice(phi_data.shape[1], size=250),:]\n",
    "    #    phi_data_sampled = phi_data_sampled[:, :, np.random.choice(phi_data.shape[2], size=200)]\n",
    "    \n",
    "    phi_data_sampled = phi_data \n",
    "    phi_data_sampled = np.transpose(phi_data_sampled, (1, 0, 2))\n",
    "    phi_data_sampled = np.transpose(phi_data_sampled, (0, 2, 1))\n",
    "    t_num = phi_data_sampled.shape[2]\n",
    "    x_num = phi_data_sampled.shape[0]\n",
    "    y_num = phi_data_sampled.shape[1]\n",
    "    ## preparing and normalizing the input and output data\n",
    "    t = np.linspace(0, 1, t_num)\n",
    "    x = np.linspace(-1, 1, x_num)\n",
    "    y = np.linspace(-1, 1, y_num)\n",
    "    X, Y, T = np.meshgrid(x, y, t, indexing=\"ij\")\n",
    "    X_star = np.hstack((X.flatten()[:, None], Y.flatten()[:, None], T.flatten()[:, None]))\n",
    "    u_star = phi_data.flatten()[:, None]\n",
    "    print(\"The coodinates have shape {}\".format(X_star.shape))\n",
    "    print(\"The data has shape {}\".format(u_star.shape))\n",
    "    \n",
    "    X_star = torch.tensor(X_star.astype(float), requires_grad = True)\n",
    "    u_star = torch.tensor(u_star.astype(float), requires_grad = True)\n",
    "    #data = loadmat(\"data/advection_diffusion.mat\")\n",
    "    #usol = np.real(data[\"Expression1\"]).astype(\"float32\")\n",
    "    #usol = usol.reshape((51, 51, 61, 4))\n",
    "    #x_v = usol[:,:,:,0]\n",
    "    #y_v = usol[:,:,:,1]\n",
    "    #t_v = usol[:,:,:,2]\n",
    "    #u_v = usol[:,:,:,3]\n",
    "    #coords = torch.from_numpy(np.stack((t, x, y), axis=-1))\n",
    "    #data = torch.from_numpy(usol[:, :, :, 3]).unsqueeze(-1)\n",
    "    # alternative way of providing the coordinates\n",
    "    # coords = torch.from_numpy(np.transpose((t_v.flatten(), x_v.flatten(), y_v.flatten())))\n",
    "    # data = torch.from_numpy(usol[:, :, :, 3].reshape(-1,1))\n",
    "    #print(\"The coodinates have shape {}\".format(coords.shape))\n",
    "    #print(\"The data has shape {}\".format(data.shape))\n",
    "    return X_star, u_star\n",
    "\n",
    "X_star, u_star = create_data()\n"
   ]
  },
  {
   "cell_type": "code",
   "execution_count": null,
   "id": "ee56de95",
   "metadata": {},
   "outputs": [],
   "source": [
    "phi_data = np.load(\"data/data_ujjal.npy\")\n",
    "phi_data = phi_data[14400:,:,:]\n",
    "\n",
    "phi_data.shape\n",
    "\n",
    "\n",
    "import numpy as np\n",
    "\n",
    "# Assuming your reshaped dataset is stored in 'data_matrix'\n",
    "data_matrix = np.reshape(phi_data, (phi_data.shape[0], 250 * 200))\n",
    "\n",
    "# Apply SVD\n",
    "U, s, VT = np.linalg.svd(data_matrix)\n",
    "\n"
   ]
  },
  {
   "cell_type": "code",
   "execution_count": null,
   "id": "0954c188",
   "metadata": {},
   "outputs": [],
   "source": []
  },
  {
   "cell_type": "code",
   "execution_count": null,
   "id": "5813c92a",
   "metadata": {},
   "outputs": [],
   "source": [
    "\n",
    "dataset = Dataset(\n",
    "    create_data,\n",
    "    preprocess_kwargs={\n",
    "        \"noise_level\": 0.05,\n",
    "        \"normalize_coords\": True,\n",
    "        \"normalize_data\": True,\n",
    "    },\n",
    "    subsampler=Subsample_random,\n",
    "    subsampler_kwargs={\"number_of_samples\": 5000},\n",
    "    device=device,\n",
    ")\n",
    "\n",
    "coords = dataset.get_coords().detach().cpu()\n",
    "data = dataset.get_data().detach().cpu()\n"
   ]
  },
  {
   "cell_type": "code",
   "execution_count": null,
   "id": "eceea8c0",
   "metadata": {},
   "outputs": [],
   "source": [
    "print(data)"
   ]
  }
 ],
 "metadata": {
  "kernelspec": {
   "display_name": "Python 3 (ipykernel)",
   "language": "python",
   "name": "python3"
  },
  "language_info": {
   "codemirror_mode": {
    "name": "ipython",
    "version": 3
   },
   "file_extension": ".py",
   "mimetype": "text/x-python",
   "name": "python",
   "nbconvert_exporter": "python",
   "pygments_lexer": "ipython3",
   "version": "3.10.6"
  }
 },
 "nbformat": 4,
 "nbformat_minor": 5
}
